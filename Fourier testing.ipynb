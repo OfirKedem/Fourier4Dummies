{
 "cells": [
  {
   "cell_type": "markdown",
   "metadata": {},
   "source": [
    "# Fourier \n",
    "\n",
    "1. intuition\n",
    "2. mathmatical defenition\n",
    "3. examples\n",
    "4. How To\n",
    "    1. draw the freq \n",
    "\n",
    "\n",
    "\n",
    "\n",
    "- first half is positive freq.  \n",
    "- windows (tradeoffs)\n",
    "    - rect\n",
    "    - blackman\n",
    "    - hamming\n",
    "- basic filtering\n",
    "- multi dim transform \n",
    "- time freq analysis and tradeoffs. \n",
    "- nyqueist\n",
    "- spectogram\n"
   ]
  },
  {
   "cell_type": "markdown",
   "metadata": {},
   "source": [
    "## Intuition\n",
    "\n",
    "there are signals. signals have freqs. it wolud be nice if we had a machine that can take a signal as an input and outputs the signals freqs. \n",
    "\n",
    "a freq is the rate of change. commenly used with Hz that is $\\frac{1}{sec}$. that is the rate of change in *time*. it doesn't have to be time (spatial for images for example)\n",
    "\n",
    "lets plot some signals"
   ]
  },
  {
   "cell_type": "code",
   "execution_count": 1,
   "metadata": {
    "slideshow": {
     "slide_type": "notes"
    }
   },
   "outputs": [
    {
     "ename": "ModuleNotFoundError",
     "evalue": "No module named 'scipy.fft'",
     "output_type": "error",
     "traceback": [
      "\u001b[1;31m---------------------------------------------------------------------------\u001b[0m",
      "\u001b[1;31mModuleNotFoundError\u001b[0m                       Traceback (most recent call last)",
      "\u001b[1;32m<ipython-input-1-7e0c5c972ab5>\u001b[0m in \u001b[0;36m<module>\u001b[1;34m\u001b[0m\n\u001b[0;32m      1\u001b[0m \u001b[1;32mimport\u001b[0m \u001b[0mnumpy\u001b[0m \u001b[1;32mas\u001b[0m \u001b[0mnp\u001b[0m\u001b[1;33m\u001b[0m\u001b[1;33m\u001b[0m\u001b[0m\n\u001b[1;32m----> 2\u001b[1;33m \u001b[1;32mfrom\u001b[0m \u001b[0mscipy\u001b[0m\u001b[1;33m.\u001b[0m\u001b[0mfft\u001b[0m \u001b[1;32mimport\u001b[0m \u001b[0mfft\u001b[0m\u001b[1;33m,\u001b[0m \u001b[0mifft\u001b[0m\u001b[1;33m,\u001b[0m \u001b[0mfftshift\u001b[0m\u001b[1;33m,\u001b[0m \u001b[0mifftshift\u001b[0m\u001b[1;33m\u001b[0m\u001b[1;33m\u001b[0m\u001b[0m\n\u001b[0m\u001b[0;32m      3\u001b[0m \u001b[1;32mimport\u001b[0m \u001b[0mmatplotlib\u001b[0m\u001b[1;33m.\u001b[0m\u001b[0mpyplot\u001b[0m \u001b[1;32mas\u001b[0m \u001b[0mplt\u001b[0m\u001b[1;33m\u001b[0m\u001b[1;33m\u001b[0m\u001b[0m\n\u001b[0;32m      4\u001b[0m \u001b[1;33m\u001b[0m\u001b[0m\n\u001b[0;32m      5\u001b[0m \u001b[0mplt\u001b[0m\u001b[1;33m.\u001b[0m\u001b[0mrcParams\u001b[0m\u001b[1;33m[\u001b[0m\u001b[1;34m'figure.figsize'\u001b[0m\u001b[1;33m]\u001b[0m \u001b[1;33m=\u001b[0m \u001b[1;33m(\u001b[0m\u001b[1;36m10.0\u001b[0m\u001b[1;33m,\u001b[0m \u001b[1;36m5.0\u001b[0m\u001b[1;33m)\u001b[0m \u001b[1;31m# set default size of plots\u001b[0m\u001b[1;33m\u001b[0m\u001b[1;33m\u001b[0m\u001b[0m\n",
      "\u001b[1;31mModuleNotFoundError\u001b[0m: No module named 'scipy.fft'"
     ]
    }
   ],
   "source": [
    "import numpy as np\n",
    "from scipy.fft import fft, ifft, fftshift, ifftshift\n",
    "import matplotlib.pyplot as plt\n",
    "\n",
    "plt.rcParams['figure.figsize'] = (10.0, 5.0) # set default size of plots\n",
    "plt.rcParams['image.interpolation'] = 'nearest'"
   ]
  },
  {
   "cell_type": "code",
   "execution_count": null,
   "metadata": {},
   "outputs": [],
   "source": [
    "t = np.linspace(-2 * np.pi, 2 * np.pi, 1000)\n",
    "for freq in [0, 0.5, 2]:\n",
    "    plt.plot(t, np.sin(freq * t * 2 * np.pi), lw=2, label=freq)\n",
    "plt.grid()\n",
    "plt.legend()\n",
    "plt.show()"
   ]
  },
  {
   "cell_type": "markdown",
   "metadata": {},
   "source": [
    "this is simple. each one of these signals has 1 freq. but there can be more..."
   ]
  },
  {
   "cell_type": "code",
   "execution_count": null,
   "metadata": {
    "scrolled": false
   },
   "outputs": [],
   "source": [
    "x = np.sin(2.0 * 2.0*np.pi*t) + 0.5*np.sin(0.5 * 2.0*np.pi*t)\n",
    "plt.plot(t, x)\n",
    "plt.title('sum of 2 sins :)')\n",
    "plt.grid()\n",
    "plt.show()"
   ]
  },
  {
   "cell_type": "markdown",
   "metadata": {},
   "source": [
    "a bit harder to tell the freq. but we might could do if we try hard enough.\n",
    "how about the next signal:"
   ]
  },
  {
   "cell_type": "code",
   "execution_count": null,
   "metadata": {},
   "outputs": [],
   "source": [
    "x = np.exp(-t**2)\n",
    "plt.plot(t, x, lw=3)\n",
    "plt.grid()\n",
    "plt.title('gussian')\n",
    "plt.show()"
   ]
  },
  {
   "cell_type": "markdown",
   "metadata": {},
   "source": [
    "this is why we need fourier, to tell us about the frequncy companents. \n",
    "\n",
    "freq is a very important feature of a signal. it can tell us about the origin of the signal (classification) and alot more. (rader, dopler rader, RF, optics, filtering) "
   ]
  },
  {
   "cell_type": "markdown",
   "metadata": {},
   "source": [
    "## mathematicl defenition and intuition\n",
    "\n",
    "Before getting started let us show the next definition:\n",
    "\n",
    "$$ e^{ix} = \\cos(x) + i \\sin(x)$$\n",
    "\n",
    "\n",
    "The definition of the Continuos Time Fourier Transform (CTFT) for a given function x(t) is as follows:\n",
    "$$ X(f) = \\mathcal{F}\\{x\\} (f) = CTFT\\{x\\}(f) \\frac{1}{2\\pi} \\int_{-\\infty}^{\\infty} x(t) e^{-i 2 \\pi f t} dt $$\n",
    "\n",
    "Let us get some intuition for this definition:\n",
    "\n",
    "Recall the definition of inner product on the space of complex functions:\n",
    "$$ \\langle g,h \\rangle = \\int_{-\\infty}^{\\infty} g(x) h^{*}(x) dx$$\n",
    "\n",
    "Also recall that performing inner product between two vectors $u,v$ is basically projecting one onto another.\n",
    "\n",
    "With all that in mind, we can see that the value of the fourier transform at frequency $f_0$ is actually (up to some constant):\n",
    "\n",
    "$$ X(f_0) = \\mathcal{F}\\{x\\}(f_0) = \\langle x, h_{f_0} \\rangle$$ \n",
    "\n",
    "where $h_{f_0} = e^{i 2 \\pi f_0 t}$ is the harmony coresponding to frequency $f_0$\n",
    "So basically, CTFT measures for every frequency, what is the projection of our beloved function $x(t)$ on this frequency, or the correlation between our function and $h_{f_0}$ - Imagine the harmonies as our ingredients. CTFT tells us how many of each \"ingredient\" to put in our bowl in order to get the wanted $x(t)$.\n",
    "\n",
    "So how do we use this recipe to get $x(t)$? This is exactly the inverse transform:\n",
    "\n",
    "$$ x(t) = ICTFT\\{X\\}(t) = \\frac{1}{2\\pi} \\int_{-\\infty}^{\\infty} X(f) e^{i 2 \\pi f t} df $$ \n",
    "\n",
    "Note that the inverse transform is very similar to the regular fourier transform and this is not just luck!\n",
    "The fourier transform posseses the following property (called unitarity):\n",
    "\n",
    "$$ \\mathcal{F}(\\mathcal{F} (x)) = x^{*} (-t)$$\n",
    "\n",
    "Basically this property's meaning is that up to complex conjugation and mirroring, fourier transform and its inverse are basically the same!\n",
    "\n",
    "Here are some examples of common fourier transfoems:\n",
    "\n",
    "$$x(t) = e^{i 2 \\pi f_0 t} \\xrightarrow{}{} X(f) = \\delta(f-f_0)$$\n",
    "\n",
    "$$x(t) = \\cos (2 \\pi f_0 t) \\xrightarrow{}{} X(f) = \\frac{1}{2} \\left[\\delta(f-f_0) + \\delta(f+f_0)\\right]$$\n",
    "\n",
    "$$x(t) = e^{-\\alpha t^2} \\xrightarrow{}{} X(f) = \\sqrt{\\frac{\\pi}{\\alpha}} e^{-\\frac{(\\pi f)^2}{\\alpha}}$$\n",
    "\n",
    "## Sampling and Descretization\n",
    "\n",
    "So integrals are SUPERRRRR AMAZINGGGGG but, unfortunately, integrals, and continuos functions and operations are not objects that we can represent in computers. In order to utilize fourier analysis for digital use, we will have to take two steps that will help us getting fourier on our screen. (However, remember that nothing comes without a cost!! ):\n",
    "\n",
    "1) Sampling (the signal)\n",
    "\n",
    "2) Discretizing (the transform)\n",
    "\n",
    "**1) Sampling:**\n",
    "\n",
    "So we want to go from a continuous time signal: $\\{ x(t) | -\\infty < t< \\infty \\}$ to a set of *finite* samples of the signal $\\{ x[n] | 0 \\leq n \\leq N\\} $. The most straight forward way to do that is as follows:\n",
    "Fix some constant $T_s$ that we shall call the sampling interval. The sampled signal is given by:\n",
    "\n",
    "$$ x[n] = x(nT_s) , 0\\leq n \\leq N-1$$\n",
    "\n",
    "So what happens here? We got a descrete time signal, but what did we lose? It is obvious that we lost some information on the signal, but, with the great help of shannon and Nyquist we can show that if we sample fast enough, we will not loose information.\n",
    "\n",
    "![title](AliasingSines.png) \n",
    "\n",
    "**2) Descretizing:**\n",
    "\n",
    "The Discrete Fourier Tranform (DFT) of a discrete time signal $x[n]$ is given by:\n",
    "\n",
    "$$ X[k] = \\sum_{n=0}^{N-1} x[n] e^{-i \\frac{2 \\pi k n}{N}}$$\n",
    "\n",
    "What does this have to do with frequencies??? In DFT we have a finite set of frequencies on which we evaluate the fourier transform - so \n",
    "\n",
    "$$ k \\xrightarrow{} f_k = \\frac{k}{2N} f_s = \\frac{k}{2N T_s}$$\n",
    "\n",
    "Note that this means that the our frequency range is limited to $f_{max} = f_{k=N-1} = \\frac{N-1}{2N} f_s $ - so we get to half of the sampling rate!\n",
    "\n",
    "FFT is a fast and efficient implementation of DFT and the terms are used interchangably."
   ]
  },
  {
   "cell_type": "markdown",
   "metadata": {},
   "source": [
    "## How To in python"
   ]
  },
  {
   "cell_type": "code",
   "execution_count": null,
   "metadata": {
    "slideshow": {
     "slide_type": "slide"
    }
   },
   "outputs": [],
   "source": [
    "x = np.array([1.0, 2.0, 1.0, -1.0, 1.5])\n",
    "y = fft(x)\n",
    "y"
   ]
  },
  {
   "cell_type": "code",
   "execution_count": null,
   "metadata": {
    "slideshow": {
     "slide_type": "subslide"
    }
   },
   "outputs": [],
   "source": [
    "yinv = ifft(y)\n",
    "yinv"
   ]
  },
  {
   "cell_type": "code",
   "execution_count": null,
   "metadata": {
    "scrolled": false,
    "slideshow": {
     "slide_type": "slide"
    }
   },
   "outputs": [],
   "source": [
    "# create signal\n",
    "N = 600 # Number of sample points\n",
    "T = 1.0 / 20.0  # smapling freq? \n",
    "t = np.linspace(0, N*T, N)  # time vector\n",
    "x = np.sin(2.0 * 2.0*np.pi*t) + 0.5*np.sin(0.5 * 2.0*np.pi*t)\n",
    "X = fft(x)\n",
    "f = np.linspace(0.0, (T ** -1) / 2 , N//2)\n",
    "\n",
    "plt.plot(f, np.abs(X[0:N//2]), lw=3)\n",
    "plt.xlabel('freq [Hz]')\n",
    "plt.ylabel('X [a.u.]')\n",
    "plt.grid()\n",
    "plt.show()\n",
    "\n",
    "plt.plot(t, x)\n",
    "plt.grid()\n",
    "plt.show()\n",
    "\n",
    "# note the positive half"
   ]
  },
  {
   "cell_type": "markdown",
   "metadata": {},
   "source": [
    "sum of sines id very simple. what are the freq of a rect function?"
   ]
  },
  {
   "cell_type": "code",
   "execution_count": null,
   "metadata": {},
   "outputs": [],
   "source": [
    "rect = np.zeros(N)\n",
    "half_width = 50\n",
    "rect[N//2 - half_width: N//2 + half_width + 1] = 1\n",
    "plt.plot(t, rect)\n",
    "plt.show()"
   ]
  },
  {
   "cell_type": "code",
   "execution_count": null,
   "metadata": {
    "scrolled": true
   },
   "outputs": [],
   "source": [
    "RECT = fftshift(fft(rect))\n",
    "whole_f = np.concatenate([-f[::-1], f])\n",
    "plt.plot(whole_f, np.abs(RECT))\n",
    "plt.xlim([-5, 5])\n",
    "plt.xlabel('f [Hz]')\n",
    "plt.title('F(rect) = sinc')\n",
    "plt.show()"
   ]
  },
  {
   "cell_type": "markdown",
   "metadata": {},
   "source": [
    "inifint support in freq domain, finite in time, this lead us to the important result of time-freq tradeoff. wide in time is nerrow in freq and vice versa. "
   ]
  },
  {
   "cell_type": "markdown",
   "metadata": {},
   "source": [
    "## Filtering\n",
    "\n",
    "we can use FFT to do digital filtering of a signal. i.e. we and remove noise or listen to a specific freq in the radio. isdtead of doing a complex operation in the time domain, we can do simple things in the freq domain\n",
    "\n",
    "in a nutshell:\n",
    "1. sample signal\n",
    "2. do FFT (move to freq domain)\n",
    "3. do filtering (or whatever)\n",
    "4. do iFFT \n",
    "\n",
    "lets see a simle example. "
   ]
  },
  {
   "cell_type": "code",
   "execution_count": null,
   "metadata": {},
   "outputs": [],
   "source": [
    "signal = np.sin(0.5 * 2 * np.pi * t)\n",
    "noise = np.sin(9 * 2 * np.pi * t)\n",
    "noisy_signal = signal + 1 * noise\n",
    "plt.plot(t,noisy_signal)\n",
    "plt.show()"
   ]
  },
  {
   "cell_type": "code",
   "execution_count": null,
   "metadata": {
    "scrolled": true
   },
   "outputs": [],
   "source": [
    "# we got the signal and it is very noisy...\n",
    "# do FFT\n",
    "F = fftshift(fft(noisy_signal))\n",
    "plt.plot(whole_f, np.abs(F))\n",
    "plt.grid()"
   ]
  },
  {
   "cell_type": "markdown",
   "metadata": {},
   "source": [
    "we want to remove the high noisy freq, and keep the original signal unchanged. we can do it using a low pass fillter (LPF). \n",
    "\n"
   ]
  },
  {
   "cell_type": "code",
   "execution_count": null,
   "metadata": {},
   "outputs": [],
   "source": [
    "# make a LPF\n",
    "lpf = np.zeros(len(F))\n",
    "cutoff = 5.0  # [Hz]\n",
    "lpf[np.abs(whole_f) < cutoff] = 1\n",
    "\n",
    "# plot\n",
    "plt.plot(whole_f, np.abs(F) / 200)\n",
    "plt.plot(whole_f, lpf)\n",
    "plt.grid()"
   ]
  },
  {
   "cell_type": "code",
   "execution_count": null,
   "metadata": {
    "scrolled": true
   },
   "outputs": [],
   "source": [
    "# do oparation\n",
    "\n",
    "clean_F = lpf * F\n",
    "\n",
    "plt.plot(whole_f, np.abs(clean_F))\n",
    "plt.grid()"
   ]
  },
  {
   "cell_type": "code",
   "execution_count": null,
   "metadata": {},
   "outputs": [],
   "source": [
    "# do iFFT (back to time)\n",
    "\n",
    "clean_signal = np.real(ifft(ifftshift(clean_F)))\n",
    "plt.plot(t, clean_signal)\n",
    "plt.xlabel('time [sec]')\n",
    "plt.title('clean signal')\n",
    "plt.grid()\n"
   ]
  },
  {
   "cell_type": "markdown",
   "metadata": {},
   "source": [
    "## Spectrogram\n",
    "\n",
    "up untill now we assumed the freq didn't change over time. how ever this is not the case usually. lets consider our favurite data, images, and videos! it is possible for different region of the video to have different freq. how ever it is possible of the same region to have differet freq over time. and when we do FFT we lose all resulation in time. \n",
    "\n",
    "so what is the solution? split the signal to small parts over time, and do FFT for each part. this is called a spectrogram. "
   ]
  },
  {
   "cell_type": "code",
   "execution_count": null,
   "metadata": {},
   "outputs": [],
   "source": [
    "from scipy.signal import spectrogram\n",
    "\n",
    "fs = 10e2\n",
    "N = 1e5\n",
    "time = np.arange(N) / float(fs)\n",
    "mod = time\n",
    "carrier = np.sin(2*np.pi*mod*time)\n",
    "x = carrier\n",
    "\n",
    "plt.plot(time, x)\n",
    "plt.grid()\n",
    "np.max(mod)"
   ]
  },
  {
   "cell_type": "code",
   "execution_count": null,
   "metadata": {},
   "outputs": [],
   "source": [
    "f, t, Sxx = spectrogram(x, fs)\n",
    "plt.pcolormesh(t, f, Sxx, shading='gouraud')\n",
    "plt.ylabel('Frequency [Hz]')\n",
    "plt.xlabel('Time [sec]')\n",
    "plt.colorbar()\n",
    "plt.show()"
   ]
  },
  {
   "cell_type": "code",
   "execution_count": null,
   "metadata": {},
   "outputs": [],
   "source": []
  },
  {
   "cell_type": "code",
   "execution_count": null,
   "metadata": {},
   "outputs": [],
   "source": []
  },
  {
   "cell_type": "code",
   "execution_count": null,
   "metadata": {},
   "outputs": [],
   "source": []
  },
  {
   "cell_type": "code",
   "execution_count": null,
   "metadata": {
    "slideshow": {
     "slide_type": "slide"
    }
   },
   "outputs": [],
   "source": [
    "\n",
    "# Number of sample points\n",
    "N = 600\n",
    "# sample spacing\n",
    "T = 1.0 / 800.0\n",
    "x = np.linspace(0.0, N*T, N)\n",
    "y = np.sin(50.0 * 2.0*np.pi*x) + 0.5*np.sin(80.0 * 2.0*np.pi*x)\n",
    "yf = fft(y)\n",
    "from scipy.signal import blackman\n",
    "w = blackman(N)\n",
    "ywf = fft(y*w)\n",
    "xf = np.linspace(0.0, 1.0/(2.0*T), N//2)\n",
    "\n",
    "plt.semilogy(xf[1:N//2], 2.0/N * np.abs(yf[1:N//2]), '-b')\n",
    "plt.semilogy(xf[1:N//2], 2.0/N * np.abs(ywf[1:N//2]), '-r')\n",
    "plt.legend(['FFT', 'FFT w. window'])\n",
    "plt.grid()\n",
    "plt.show()"
   ]
  },
  {
   "cell_type": "code",
   "execution_count": null,
   "metadata": {
    "slideshow": {
     "slide_type": "slide"
    }
   },
   "outputs": [],
   "source": [
    "from scipy.fft import ifftn\n",
    "import matplotlib.pyplot as plt\n",
    "import matplotlib.cm as cm\n",
    "N = 30\n",
    "f, ((ax1, ax2, ax3), (ax4, ax5, ax6)) = plt.subplots(2, 3, sharex='col', sharey='row')\n",
    "xf = np.zeros((N,N))\n",
    "xf[0, 5] = 1\n",
    "xf[0, N-5] = 1\n",
    "Z = ifftn(xf)\n",
    "ax1.imshow(xf, cmap=cm.Reds)\n",
    "ax4.imshow(np.real(Z), cmap=cm.gray)\n",
    "xf = np.zeros((N, N))\n",
    "xf[5, 0] = 1\n",
    "xf[N-5, 0] = 1\n",
    "Z = ifftn(xf)\n",
    "ax2.imshow(xf, cmap=cm.Reds)\n",
    "ax5.imshow(np.real(Z), cmap=cm.gray)\n",
    "xf = np.zeros((N, N))\n",
    "xf[5, 10] = 1\n",
    "xf[N-5, N-10] = 1\n",
    "Z = ifftn(xf)\n",
    "ax3.imshow(xf, cmap=cm.Reds)\n",
    "ax6.imshow(np.real(Z), cmap=cm.gray)\n",
    "plt.show()"
   ]
  }
 ],
 "metadata": {
  "kernelspec": {
   "display_name": "Python (moshenv)",
   "language": "python",
   "name": "moshenv"
  },
  "language_info": {
   "codemirror_mode": {
    "name": "ipython",
    "version": 3
   },
   "file_extension": ".py",
   "mimetype": "text/x-python",
   "name": "python",
   "nbconvert_exporter": "python",
   "pygments_lexer": "ipython3",
   "version": "3.7.6"
  }
 },
 "nbformat": 4,
 "nbformat_minor": 4
}
